{
  "nbformat": 4,
  "nbformat_minor": 0,
  "metadata": {
    "colab": {
      "name": "Untitled5.ipynb",
      "provenance": [],
      "authorship_tag": "ABX9TyO2ofw/KPUSWmlXhfXIjha1",
      "include_colab_link": true
    },
    "kernelspec": {
      "name": "python3",
      "display_name": "Python 3"
    }
  },
  "cells": [
    {
      "cell_type": "markdown",
      "metadata": {
        "id": "view-in-github",
        "colab_type": "text"
      },
      "source": [
        "<a href=\"https://colab.research.google.com/github/ANISHPAUL92/Java/blob/master/NNIntro.ipynb\" target=\"_parent\"><img src=\"https://colab.research.google.com/assets/colab-badge.svg\" alt=\"Open In Colab\"/></a>"
      ]
    },
    {
      "cell_type": "code",
      "metadata": {
        "colab": {
          "base_uri": "https://localhost:8080/",
          "height": 670
        },
        "id": "bUZJkUyW5n-9",
        "outputId": "aee91f9e-2276-41ed-b995-35bdb0ac1b91"
      },
      "source": [
        "from tensorflow.keras.datasets import mnist\n",
        "from keras.utils import to_categorical\n",
        "from keras.models import Sequential\n",
        "from keras.layers import Dense\n",
        "import matplotlib.pyplot as plt\n",
        "\n",
        "\n",
        "(x_train, labels_train), (x_test, labels_test) = mnist.load_data()\n",
        "\n",
        "x_train = x_train.astype('float32')\n",
        "x_test = x_test.astype('float32')\n",
        "x_train /= 255\n",
        "x_test /= 255\n",
        "\n",
        "\n",
        "y_train = to_categorical(labels_train, 10)\n",
        "y_test = to_categorical(labels_test, 10)\n",
        "\n",
        "\n",
        "x_train = x_train.reshape(60000, 784)\n",
        "x_test = x_test.reshape(10000, 784)\n",
        "\n",
        "\n",
        "net = Sequential()\n",
        "net.add(Dense(800, activation = 'relu', input_shape=(784,)))\n",
        "net.add(Dense(400, activation = 'relu'))\n",
        "net.add(Dense(10, activation = 'softmax'))\n",
        "\n",
        "net.compile(loss='categorical_crossentropy', optimizer='adam')\n",
        "history = net.fit(x_train, y_train, validation_data=(x_test, y_test), epochs=10, batch_size=256, verbose =1)\n",
        "\n",
        "plt.figure()\n",
        "plt.plot(history.history['loss'], label='training loss')\n",
        "plt.plot(history.history['val_loss'], label='validation loss')\n",
        "plt.xlabel('epochs')\n",
        "plt.ylabel('loss')\n",
        "plt.legend()\n",
        "\n"
      ],
      "execution_count": 1,
      "outputs": [
        {
          "output_type": "stream",
          "text": [
            "Downloading data from https://storage.googleapis.com/tensorflow/tf-keras-datasets/mnist.npz\n",
            "11493376/11490434 [==============================] - 0s 0us/step\n",
            "Epoch 1/10\n",
            "235/235 [==============================] - 8s 32ms/step - loss: 0.4587 - val_loss: 0.1250\n",
            "Epoch 2/10\n",
            "235/235 [==============================] - 7s 30ms/step - loss: 0.0920 - val_loss: 0.0833\n",
            "Epoch 3/10\n",
            "235/235 [==============================] - 7s 31ms/step - loss: 0.0528 - val_loss: 0.0711\n",
            "Epoch 4/10\n",
            "235/235 [==============================] - 7s 30ms/step - loss: 0.0350 - val_loss: 0.0598\n",
            "Epoch 5/10\n",
            "235/235 [==============================] - 7s 30ms/step - loss: 0.0239 - val_loss: 0.0666\n",
            "Epoch 6/10\n",
            "235/235 [==============================] - 7s 30ms/step - loss: 0.0158 - val_loss: 0.0673\n",
            "Epoch 7/10\n",
            "235/235 [==============================] - 7s 30ms/step - loss: 0.0156 - val_loss: 0.0695\n",
            "Epoch 8/10\n",
            "235/235 [==============================] - 7s 30ms/step - loss: 0.0097 - val_loss: 0.0836\n",
            "Epoch 9/10\n",
            "235/235 [==============================] - 7s 30ms/step - loss: 0.0117 - val_loss: 0.0834\n",
            "Epoch 10/10\n",
            "235/235 [==============================] - 7s 30ms/step - loss: 0.0121 - val_loss: 0.0783\n"
          ],
          "name": "stdout"
        },
        {
          "output_type": "execute_result",
          "data": {
            "text/plain": [
              "<matplotlib.legend.Legend at 0x7f8b325d5978>"
            ]
          },
          "metadata": {
            "tags": []
          },
          "execution_count": 1
        },
        {
          "output_type": "display_data",
          "data": {
            "image/png": "[encoded data removed]",
            "text/plain": [
              "<Figure size 432x288 with 1 Axes>"
            ]
          },
          "metadata": {
            "tags": [],
            "needs_background": "light"
          }
        }
      ]
    },
    {
      "cell_type": "markdown",
      "metadata": {
        "id": "gsm77W5rMjB3"
      },
      "source": [
        "# New Section"
      ]
    }
  ]
}